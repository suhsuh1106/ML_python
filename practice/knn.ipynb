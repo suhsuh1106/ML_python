{
 "cells": [
  {
   "cell_type": "markdown",
   "id": "a83ca038",
   "metadata": {},
   "source": [
    "# KNN알고리즘"
   ]
  },
  {
   "cell_type": "markdown",
   "id": "f8597f10",
   "metadata": {},
   "source": [
    "## 1. numpy import & DataSet\n",
    "+ numpy import\n",
    "+ group&labels로 dataset 생성\n",
    "    - array는 [] 사용 \n",
    "    - tuple은 () 사용\n",
    "    - dict는 {} 사용"
   ]
  },
  {
   "cell_type": "code",
   "execution_count": 1,
   "id": "7d394f54",
   "metadata": {},
   "outputs": [],
   "source": [
    "from numpy import *\n",
    "import operator\n",
    "\n",
    "def createDataSet() :\n",
    "    group = array([ [1.0, 2.0], [1.0, 4.0], [4.0, 1.0], [4.0,2.0] ])\n",
    "    labels = ['Action', 'Action', 'Romantic', 'Romantic']\n",
    "    return group, labels"
   ]
  },
  {
   "cell_type": "code",
   "execution_count": 2,
   "id": "f5ff64ad",
   "metadata": {},
   "outputs": [
    {
     "name": "stdout",
     "output_type": "stream",
     "text": [
      "[[1. 2.]\n",
      " [1. 4.]\n",
      " [4. 1.]\n",
      " [4. 2.]]\n",
      "['Action', 'Action', 'Romantic', 'Romantic']\n"
     ]
    }
   ],
   "source": [
    "group, labels = createDataSet()\n",
    "print(group) \n",
    "print(labels)"
   ]
  },
  {
   "cell_type": "code",
   "execution_count": 10,
   "id": "36880d1d",
   "metadata": {},
   "outputs": [],
   "source": [
    "from numpy import *\n",
    "import operator\n",
    "\n",
    "def createDataSet2() :\n",
    "    group = array([ [4.0, 1.0], [4.0,2.0], [1.0, 2.0], [1.0, 4.0]])\n",
    "    labels = ['Action', 'Action', 'Romantic', 'Romantic']\n",
    "    return group, labels\n",
    "group, labes = createDataSet2()"
   ]
  },
  {
   "cell_type": "markdown",
   "id": "46ed6ab1",
   "metadata": {},
   "source": [
    "# 2. calcDistance\n",
    "+ inX = [2.0, 3.0]\n",
    "    + 알고자 하는 X의 위치<br>\n",
    "<br>\n",
    "+ dataSet = group\n",
    "+ labels = labels\n",
    "+ k = 3\n",
    "<br><br>\n",
    "\n",
    "+ dataSetSize = dataSet.shape[0]\n",
    "    + datasize : dataSet.shape를 이용하여 구함 = 4\n",
    "        + .shape row의 개수를 반환<br><br>\n",
    "    \n",
    "+ sqDiffMat = diffMat ** 2\n",
    "+ sqDistances = sqDiffMat.sum(axis=1)\n",
    "+ distances = sqDistances ** 0.5\n",
    "    + diffMat : tile(inX, (dataSetSize, 1)) - dataSet으로 두 점 사이 거리 벡터\n",
    "    + sqDiffMat : 피타고라스 이용 $$x^2 + y^2$$\n",
    "    + distances : root이용 거리 계산\n",
    "<br><br>\n",
    "\n",
    "+ sortedDistIndices = distnaces.argsort()\n",
    "    + 어레이 distnaces를 정렬하는 '인덱스의 어레이'를 반환\n",
    "    + 즉, 거리순서를 반환"
   ]
  },
  {
   "cell_type": "code",
   "execution_count": 11,
   "id": "6d72e4c8",
   "metadata": {},
   "outputs": [],
   "source": [
    "def calcDistance(inX, dataSet, labels, k):\n",
    "    # shape is a tuple that gives dimensions of the array\n",
    "    # shape[0] returns the number of rows, here will return 4\n",
    "    dataSetSize = dataSet.shape[0]\n",
    "    #dataSetSize = 4\n",
    "    \n",
    "    # numpy.tile(A, reps): construct an array by repeating A the number of times given by reps\n",
    "    # if reps has length d, the result will have dimension of max(d, A.ndim)\n",
    "    # tile(inX, (dataSetSize,1)) will return [ [0,0] [0,0] [0,0] [0,0] ]\n",
    "    # diffMat is [ [1, 1], [1, -1], [-2, 2], [-2, 1] ]\n",
    "    diffMat = tile(inX, (dataSetSize, 1)) - dataSet\n",
    "    # **2 means square\n",
    "    sqDiffMat = diffMat ** 2\n",
    "    \n",
    "    # sqDistances = x^2 + y^2\n",
    "    sqDistances = sqDiffMat.sum(axis=1)\n",
    "    # distance is equal to the square root of the sum of the squares of the coordinates\n",
    "    # distance = [2, 2, 8, 5]\n",
    "    distances = sqDistances ** 0.5\n",
    "    \n",
    "    # numpy.argsort() returns the indices that would sort an array\n",
    "    # here returns [0 1 3 2]\n",
    "    sortedDistIndices = distances.argsort()\n",
    "    \n",
    "    return sortedDistIndices"
   ]
  },
  {
   "cell_type": "code",
   "execution_count": 12,
   "id": "4ae29ee9",
   "metadata": {},
   "outputs": [
    {
     "name": "stdout",
     "output_type": "stream",
     "text": [
      "[2 3 1 0]\n"
     ]
    }
   ],
   "source": [
    "sortedDistIndices = calcDistance([2.0, 3.0], group, labels, 3)\n",
    "print(sortedDistIndices)"
   ]
  },
  {
   "cell_type": "markdown",
   "id": "b897de0d",
   "metadata": {},
   "source": [
    "# 3. findMajorityClass\n",
    "+ classCount dict 생성\n",
    "+ 거리가 가까운 순으로 k개 label list 생성\n",
    "+ "
   ]
  },
  {
   "cell_type": "code",
   "execution_count": 23,
   "id": "e0cd55ca",
   "metadata": {},
   "outputs": [
    {
     "name": "stdout",
     "output_type": "stream",
     "text": [
      "[7 6 3 4 2 5]\n",
      "[4 2 3 5 1 0]\n",
      "[2 3 4 5 6 7]\n"
     ]
    }
   ],
   "source": [
    "list = array([7,6,3,4,2,5])\n",
    "a = list.argsort()\n",
    "print(list)\n",
    "print(a)\n",
    "print(list[a])"
   ]
  },
  {
   "cell_type": "code",
   "execution_count": 14,
   "id": "e53e1303",
   "metadata": {},
   "outputs": [],
   "source": [
    "def findMajorityClass(inX, dataSet, labels, k, sortedDistIndices):\n",
    "    classCount = {}\n",
    "\n",
    "    # iterate k times from the closest item\n",
    "    for i in range(k):\n",
    "        voteIlabel = labels[sortedDistIndices[i]]\n",
    "        print(sortedDistIndices[i], voteIlabel)\n",
    "        \n",
    "        # increase +1 on the selected label\n",
    "        classCount[voteIlabel] = classCount.get(voteIlabel, 0) + 1\n",
    "\n",
    "    # classCount dictionary : {'Action': 2, 'Romantic': 1}\n",
    "    # sort ClassCount Descending order\n",
    "\n",
    "    return sorted(classCount, key=operator.itemgetter(1), reverse=True)"
   ]
  },
  {
   "cell_type": "code",
   "execution_count": 15,
   "id": "95c60bc5",
   "metadata": {},
   "outputs": [
    {
     "name": "stdout",
     "output_type": "stream",
     "text": [
      "2 Romantic\n",
      "3 Romantic\n",
      "1 Action\n"
     ]
    },
    {
     "data": {
      "text/plain": [
       "['Romantic', 'Action']"
      ]
     },
     "execution_count": 15,
     "metadata": {},
     "output_type": "execute_result"
    }
   ],
   "source": [
    "findMajorityClass([2.0, 3.0], group, labels, 3,sortedDistIndices)"
   ]
  },
  {
   "cell_type": "code",
   "execution_count": 16,
   "id": "7708dc5c",
   "metadata": {},
   "outputs": [],
   "source": [
    "def classify0(inX, dataSet, labels, k):\n",
    "    # calculate the distance between inX and the current point\n",
    "    sortedDistIndices = calcDistance(inX, dataSet, labels, k)\n",
    "    # take k items with lowest distances to inX and find the majority class among k items\n",
    "    sortedClassCount = findMajorityClass(inX, dataSet, labels, k, sortedDistIndices)\n",
    "    # sortedClassCount is now [('Action', 2)], therefore return Action\n",
    "    return sortedClassCount[0]"
   ]
  },
  {
   "cell_type": "code",
   "execution_count": 17,
   "id": "b84054dd",
   "metadata": {},
   "outputs": [
    {
     "name": "stdout",
     "output_type": "stream",
     "text": [
      "0 Action\n",
      "1 Action\n",
      "3 Romantic\n",
      "Romantic\n"
     ]
    }
   ],
   "source": [
    "group, labels = createDataSet()\n",
    "result = classify0([2.0, 3.0], group, labels, 3)\n",
    "print (result)"
   ]
  }
 ],
 "metadata": {
  "kernelspec": {
   "display_name": "Python 3",
   "language": "python",
   "name": "python3"
  },
  "language_info": {
   "codemirror_mode": {
    "name": "ipython",
    "version": 3
   },
   "file_extension": ".py",
   "mimetype": "text/x-python",
   "name": "python",
   "nbconvert_exporter": "python",
   "pygments_lexer": "ipython3",
   "version": "3.8.8"
  }
 },
 "nbformat": 4,
 "nbformat_minor": 5
}
